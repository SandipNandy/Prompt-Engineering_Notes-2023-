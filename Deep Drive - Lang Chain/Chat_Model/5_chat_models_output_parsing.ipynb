{
  "cells": [
    {
      "cell_type": "markdown",
      "metadata": {
        "id": "j4wIjKoxhS7d"
      },
      "source": [
        "## Chat Models - Output Parsing\n"
      ]
    },
    {
      "cell_type": "markdown",
      "metadata": {
        "id": "autz-uiwhS7g"
      },
      "source": [
        "Language models output text. But many times you may want to get more structured information than just text back. This is where output parsers come in.\n",
        "\n",
        "Output parsers are classes that help structure language model responses. There are two main methods an output parser must implement:\n",
        "\n",
        "\"Get format instructions\": A method which returns a string containing instructions for how the output of a language model should be formatted.\n",
        "\"Parse\": A method which takes in a string (assumed to be the response from a language model) and parses it into some structure.\n",
        "And then one optional one:\n",
        "\n",
        "\"Parse with prompt\": A method which takes in a string (assumed to be the response from a language model) and a prompt (assumed to the prompt that generated such a response) and parses it into some structure. The prompt is largely provided in the event the OutputParser wants to retry or fix the output in some way, and needs information from the prompt to do so.\n"
      ]
    },
    {
      "cell_type": "code",
      "execution_count": null,
      "metadata": {
        "id": "Z7RP4fmfhS7g"
      },
      "outputs": [],
      "source": [
        "import os\n",
        "%pip install langchain\n",
        "os.environ['OPENAI_API_KEY'] = 'API_KEY_HERE'"
      ]
    },
    {
      "cell_type": "code",
      "execution_count": null,
      "metadata": {
        "id": "RX1W4SM_hS7h"
      },
      "outputs": [],
      "source": [
        "from langchain.prompts import (\n",
        "    ChatPromptTemplate,\n",
        "    SystemMessagePromptTemplate,\n",
        ")\n",
        "from langchain.chat_models import ChatOpenAI\n",
        "\n",
        "from langchain.output_parsers import PydanticOutputParser\n",
        "from pydantic import BaseModel, Field, validator"
      ]
    },
    {
      "cell_type": "code",
      "execution_count": null,
      "metadata": {
        "id": "VdGXHPdWhS7i"
      },
      "outputs": [],
      "source": [
        "# chat = ChatOpenAI(openai_api_key=\"...\")\n",
        "\n",
        "# If you have an envionrment variable set for OPENAI_API_KEY, you can just do:\n",
        "chat = ChatOpenAI(temperature=0)"
      ]
    },
    {
      "cell_type": "code",
      "execution_count": null,
      "metadata": {
        "id": "MfCKswD-hS7i"
      },
      "outputs": [],
      "source": [
        "# Define your desired data structure.\n",
        "class Joke(BaseModel):\n",
        "    setup: str = Field(description=\"question to set up a joke\")\n",
        "    punchline: str = Field(description=\"answer to resolve the joke\")\n",
        "\n",
        "    # You can add custom validation logic easily with Pydantic.\n",
        "    @validator(\"setup\")\n",
        "    def question_ends_with_question_mark(cls, field):\n",
        "        if field[-1] != \"?\":\n",
        "            raise ValueError(\"Badly formed question!\")\n",
        "        return field"
      ]
    },
    {
      "cell_type": "code",
      "execution_count": null,
      "metadata": {
        "id": "7XFG6nJThS7i"
      },
      "outputs": [],
      "source": [
        "# Set up a parser + inject instructions into the prompt template.\n",
        "parser = PydanticOutputParser(pydantic_object=Joke)"
      ]
    },
    {
      "cell_type": "code",
      "execution_count": null,
      "metadata": {
        "id": "A3NvWwr6hS7j"
      },
      "outputs": [],
      "source": [
        "template = \"Answer the user query.\\n{format_instructions}\\n{query}\\n\"\n",
        "system_message_prompt = SystemMessagePromptTemplate.from_template(template)\n",
        "chat_prompt = ChatPromptTemplate.from_messages([system_message_prompt])"
      ]
    },
    {
      "cell_type": "code",
      "execution_count": null,
      "metadata": {
        "id": "wMGFJhIahS7j"
      },
      "outputs": [],
      "source": [
        "# Format the chat prompt:\n",
        "messages = chat_prompt.format_prompt(\n",
        "    format_instructions=parser.get_format_instructions(),\n",
        "    query=\"What do you call a pig that does karate?\",\n",
        ").to_messages()"
      ]
    },
    {
      "cell_type": "code",
      "execution_count": null,
      "metadata": {
        "id": "8NywBuJuhS7j"
      },
      "outputs": [],
      "source": [
        "result = chat(messages)"
      ]
    },
    {
      "cell_type": "code",
      "execution_count": null,
      "metadata": {
        "id": "gfRAdRsFhS7k",
        "outputId": "155748d9-eff9-4d85-bd38-8b1a81615f87"
      },
      "outputs": [
        {
          "name": "stdout",
          "output_type": "stream",
          "text": [
            "{\"setup\": \"What do you call a pig that does karate?\", \"punchline\": \"A pork chop!\"}\n"
          ]
        }
      ],
      "source": [
        "print(result.content)"
      ]
    },
    {
      "cell_type": "code",
      "execution_count": null,
      "metadata": {
        "id": "Y7d76i47hS7k"
      },
      "outputs": [],
      "source": [
        "joke_pydantic_object = parser.parse(result.content)"
      ]
    },
    {
      "cell_type": "code",
      "execution_count": null,
      "metadata": {
        "id": "Hr29EZpGhS7k",
        "outputId": "e3130d53-367e-4c42-db7c-aedd0e612d7c"
      },
      "outputs": [
        {
          "data": {
            "text/plain": [
              "'What do you call a pig that does karate?'"
            ]
          },
          "execution_count": 50,
          "metadata": {},
          "output_type": "execute_result"
        }
      ],
      "source": [
        "joke_pydantic_object.setup"
      ]
    },
    {
      "cell_type": "code",
      "execution_count": null,
      "metadata": {
        "id": "tdqdDVgKhS7k",
        "outputId": "a7e6b977-a5f4-4072-b9ec-76f731dfb72b"
      },
      "outputs": [
        {
          "data": {
            "text/plain": [
              "'A pork chop!'"
            ]
          },
          "execution_count": 51,
          "metadata": {},
          "output_type": "execute_result"
        }
      ],
      "source": [
        "joke_pydantic_object.punchline"
      ]
    }
  ],
  "metadata": {
    "kernelspec": {
      "display_name": "base",
      "language": "python",
      "name": "python3"
    },
    "language_info": {
      "codemirror_mode": {
        "name": "ipython",
        "version": 3
      },
      "file_extension": ".py",
      "mimetype": "text/x-python",
      "name": "python",
      "nbconvert_exporter": "python",
      "pygments_lexer": "ipython3",
      "version": "3.9.13"
    },
    "orig_nbformat": 4,
    "colab": {
      "provenance": []
    }
  },
  "nbformat": 4,
  "nbformat_minor": 0
}