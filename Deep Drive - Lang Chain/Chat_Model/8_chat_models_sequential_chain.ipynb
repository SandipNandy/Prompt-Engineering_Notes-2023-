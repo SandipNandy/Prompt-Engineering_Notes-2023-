{
  "cells": [
    {
      "cell_type": "markdown",
      "metadata": {
        "id": "HPB16yo98M9K"
      },
      "source": [
        "## Chat Models - Sequential Chain\n"
      ]
    },
    {
      "cell_type": "code",
      "execution_count": null,
      "metadata": {
        "id": "4-BztHep8M9N"
      },
      "outputs": [],
      "source": [
        "import os\n",
        "%pip install langchain\n",
        "os.environ['OPENAI_API_KEY'] = 'API_KEY_HERE'"
      ]
    },
    {
      "cell_type": "markdown",
      "metadata": {
        "id": "HElofjve8M9N"
      },
      "source": [
        "Once you've initiated a call to a language model, it's often useful to make subsequent calls. This method, where the output of one call serves as the input to the next, is especially valuable for more complex tasks.\n",
        "\n",
        "In this notebook, we'll explore how to implement this using 'sequential chains'. These chains help you link multiple calls together, creating pipelines tailored for specific scenarios.\n"
      ]
    },
    {
      "cell_type": "code",
      "execution_count": null,
      "metadata": {
        "id": "lbrdtIqj8M9O"
      },
      "outputs": [],
      "source": [
        "from langchain.chat_models import ChatOpenAI\n",
        "from langchain.chains import LLMChain, SequentialChain\n",
        "from langchain.prompts.chat import ChatPromptTemplate, SystemMessagePromptTemplate\n",
        "from langchain.prompts import PromptTemplate"
      ]
    },
    {
      "cell_type": "code",
      "execution_count": null,
      "metadata": {
        "id": "r5ARUWfn8M9O"
      },
      "outputs": [],
      "source": [
        "# Defining a chat model:\n",
        "chat = ChatOpenAI(temperature=0.7)"
      ]
    },
    {
      "cell_type": "code",
      "execution_count": null,
      "metadata": {
        "id": "3ncna1Vj8M9O"
      },
      "outputs": [],
      "source": [
        "# Brainstorming Chain:\n",
        "\n",
        "template = \"\"\"Act as a social marketer. You are responsible for generating a list of blog post ideas.\n",
        "Here is some company context to help with your brainstorming: {context}\n",
        "\"\"\"\n",
        "\n",
        "system_message_prompt = SystemMessagePromptTemplate(\n",
        "    prompt=PromptTemplate(template=template, input_variables=[\"context\"]),\n",
        ")\n",
        "chat_prompt = ChatPromptTemplate.from_messages([system_message_prompt])\n",
        "\n",
        "# Create the chain:\n",
        "brainstorming_chain = LLMChain(llm=chat, prompt=chat_prompt, output_key=\"ideas\")"
      ]
    },
    {
      "cell_type": "code",
      "execution_count": null,
      "metadata": {
        "id": "wdmLf8mm8M9O"
      },
      "outputs": [],
      "source": [
        "# Outline Chain:\n",
        "template = \"\"\"You are a content writer. Your task is to pick an idea from {ideas} and then write a blog post outline.\n",
        "Here is some company context to help with your outline: {context}\n",
        "\"\"\"\n",
        "system_message_prompt = SystemMessagePromptTemplate(\n",
        "    prompt=PromptTemplate(template=template, input_variables=[\"context\", \"ideas\"]),\n",
        ")\n",
        "chat_prompt = ChatPromptTemplate.from_messages([system_message_prompt])\n",
        "\n",
        "outline_chain = LLMChain(llm=chat, prompt=chat_prompt, output_key=\"outline\")"
      ]
    },
    {
      "cell_type": "code",
      "execution_count": null,
      "metadata": {
        "id": "SsLdlvo58M9O"
      },
      "outputs": [],
      "source": [
        "# Create the chain:\n",
        "outline_chain = SequentialChain(\n",
        "    chains=[brainstorming_chain, outline_chain],\n",
        "    input_variables=[\"context\"],\n",
        ")"
      ]
    },
    {
      "cell_type": "code",
      "execution_count": null,
      "metadata": {
        "id": "tXqBCVzR8M9O",
        "outputId": "a3f7ca60-5f58-4aa0-ba37-c4023cc41ef4"
      },
      "outputs": [
        {
          "data": {
            "text/plain": [
              "\"Title: Exploring Different Software Development Methodologies: Waterfall vs. Agile\\n\\nOutline:\\n\\nI. Introduction\\n    A. Brief explanation of the significance of software development methodologies\\n    B. Introduction to Waterfall and Agile methodologies\\n    C. The importance of choosing the right methodology for software development projects\\n\\nII. Waterfall Methodology\\n    A. Definition and overview of the Waterfall methodology\\n    B. Sequential nature of the Waterfall methodology\\n    C. Key characteristics and stages of the Waterfall methodology\\n    D. Advantages and disadvantages of the Waterfall methodology\\n    E. Real-world examples of projects where the Waterfall methodology is suitable\\n\\nIII. Agile Methodology\\n    A. Definition and overview of the Agile methodology\\n    B. Iterative and incremental nature of the Agile methodology\\n    C. Key characteristics and principles of Agile methodology (e.g., Scrum, Kanban)\\n    D. Advantages and disadvantages of the Agile methodology\\n    E. Real-world examples of projects where the Agile methodology is suitable\\n\\nIV. Choosing the Right Methodology\\n    A. Factors to consider when selecting a software development methodology\\n    B. Assessing project requirements, team dynamics, and client expectations\\n    C. Case studies highlighting successful implementation of Waterfall and Agile methodologies\\n\\nV. Best Practices for Successful Implementation\\n    A. Importance of effective communication and collaboration within the development team\\n    B. Regular feedback and adaptability in Agile methodology\\n    C. Establishing clear project goals, timelines, and deliverables\\n    D. The role of project management tools and software in supporting the chosen methodology\\n\\nVI. Conclusion\\n    A. Recap of the key points discussed\\n    B. Emphasis on the importance of understanding and selecting the right methodology\\n    C. Encouragement to explore and experiment with different methodologies to find the best fit\\n\\nNote: As a software company, it's important to provide valuable insights and guidance to developers. This blog post will help developers understand the differences and benefits of Waterfall and Agile methodologies, enabling them to make informed decisions when choosing a methodology for their software development projects.\""
            ]
          },
          "execution_count": 33,
          "metadata": {},
          "output_type": "execute_result"
        }
      ],
      "source": [
        "# Run the chain:\n",
        "outline_chain.run(\n",
        "    {\n",
        "        \"context\": \"Our company is a software company that builds products for developers.\",\n",
        "    }\n",
        ")"
      ]
    },
    {
      "cell_type": "markdown",
      "metadata": {
        "id": "l8Ij0zcJ8M9P"
      },
      "source": [
        "## Increasing the chain by a length of 1\n",
        "\n",
        "You could then increase the sequential chain by adding more chains.\n"
      ]
    },
    {
      "cell_type": "code",
      "execution_count": null,
      "metadata": {
        "id": "0HZXGMD18M9P"
      },
      "outputs": [],
      "source": [
        "import langchain\n",
        "\n",
        "langchain.verbose = True\n",
        "\n",
        "# Translation chain:\n",
        "template = \"Translate the article outline into {language}: {outline}\"\n",
        "prompt = PromptTemplate.from_template(template)\n",
        "translation_chain = LLMChain(\n",
        "    llm=chat, prompt=prompt, output_key=\"translation\", verbose=True\n",
        ")\n",
        "\n",
        "# Create the a new SeqwentialChain with the translation chain added:\n",
        "translated_article_outline_chain = SequentialChain(\n",
        "    chains=[brainstorming_chain, outline_chain, translation_chain],\n",
        "    input_variables=[\"context\", \"language\"],\n",
        "    verbose=True,\n",
        ")"
      ]
    },
    {
      "cell_type": "code",
      "execution_count": null,
      "metadata": {
        "id": "6RBwrxJo8M9P",
        "outputId": "f68fbb1f-d258-4ef7-c7cc-86ea1896200a"
      },
      "outputs": [
        {
          "name": "stdout",
          "output_type": "stream",
          "text": [
            "\n",
            "\n",
            "\u001b[1m> Entering new SequentialChain chain...\u001b[0m\n"
          ]
        }
      ],
      "source": [
        "translated_article_outline_chain.run(\n",
        "    {\n",
        "        \"context\": \"Our company is a software company that builds products for developers.\",\n",
        "        \"language\": \"French\",\n",
        "    }\n",
        ")"
      ]
    }
  ],
  "metadata": {
    "kernelspec": {
      "display_name": "base",
      "language": "python",
      "name": "python3"
    },
    "language_info": {
      "codemirror_mode": {
        "name": "ipython",
        "version": 3
      },
      "file_extension": ".py",
      "mimetype": "text/x-python",
      "name": "python",
      "nbconvert_exporter": "python",
      "pygments_lexer": "ipython3",
      "version": "3.9.13"
    },
    "orig_nbformat": 4,
    "colab": {
      "provenance": []
    }
  },
  "nbformat": 4,
  "nbformat_minor": 0
}