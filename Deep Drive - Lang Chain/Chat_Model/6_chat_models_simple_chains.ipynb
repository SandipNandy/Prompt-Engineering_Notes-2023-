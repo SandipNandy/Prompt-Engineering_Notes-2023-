{
  "cells": [
    {
      "cell_type": "markdown",
      "metadata": {
        "id": "oP3o7jYY4pRh"
      },
      "source": [
        "## Chat Models - Simple Chains\n"
      ]
    },
    {
      "cell_type": "code",
      "execution_count": null,
      "metadata": {
        "id": "_MIMbILb4pRk"
      },
      "outputs": [],
      "source": [
        "import os\n",
        "%pip install langchain\n",
        "os.environ['OPENAI_API_KEY'] = 'API_KEY_HERE'"
      ]
    },
    {
      "cell_type": "code",
      "execution_count": null,
      "metadata": {
        "id": "HuQK2Zuy4pRl"
      },
      "outputs": [],
      "source": [
        "from langchain.chains import LLMChain\n",
        "from langchain.chat_models import ChatOpenAI\n",
        "from langchain.prompts.chat import (\n",
        "    ChatPromptTemplate,\n",
        "    HumanMessagePromptTemplate,\n",
        "    SystemMessagePromptTemplate,\n",
        ")\n",
        "from langchain.prompts import PromptTemplate"
      ]
    },
    {
      "cell_type": "code",
      "execution_count": null,
      "metadata": {
        "id": "jqep47a24pRl",
        "outputId": "ec8345fa-c5a2-4743-d5aa-d2c1f2bea33c"
      },
      "outputs": [
        {
          "data": {
            "text/plain": [
              "HumanMessagePromptTemplate(prompt=PromptTemplate(input_variables=['product'], output_parser=None, partial_variables={}, template='Test {product}', template_format='f-string', validate_template=True), additional_kwargs={})"
            ]
          },
          "execution_count": 2,
          "metadata": {},
          "output_type": "execute_result"
        }
      ],
      "source": [
        "HumanMessagePromptTemplate.from_template(\"Test {product}\")"
      ]
    },
    {
      "cell_type": "code",
      "execution_count": null,
      "metadata": {
        "id": "y9qGiyUr4pRm"
      },
      "outputs": [],
      "source": [
        "# This is the long hand way of doing the same thing as the one below:\n",
        "# human_message_prompt = HumanMessagePromptTemplate(\n",
        "#     prompt=PromptTemplate(\n",
        "#         template=\"What is a good name for a company that makes {product}?\",\n",
        "#         input_variables=[\"product\"],\n",
        "#     )\n",
        "# )\n",
        "\n",
        "human_message_prompt = HumanMessagePromptTemplate.from_template(\n",
        "    \"What is a good name for a company that makes {product}?\"\n",
        ")\n",
        "\n",
        "chat_prompt_template = ChatPromptTemplate.from_messages([human_message_prompt])"
      ]
    },
    {
      "cell_type": "code",
      "execution_count": null,
      "metadata": {
        "id": "cNnwciaK4pRm"
      },
      "outputs": [],
      "source": [
        "# Creating the chat model:\n",
        "chat = ChatOpenAI(temperature=0.9)"
      ]
    },
    {
      "cell_type": "code",
      "execution_count": null,
      "metadata": {
        "id": "clQvrJSx4pRm",
        "outputId": "3fa5de86-b13d-4af6-d32f-9d832ca14d6d"
      },
      "outputs": [
        {
          "name": "stdout",
          "output_type": "stream",
          "text": [
            "Socktastic\n"
          ]
        }
      ],
      "source": [
        "# Creating the chain:\n",
        "chain = LLMChain(llm=chat, prompt=chat_prompt_template)\n",
        "print(chain.run(\"colorful socks\"))"
      ]
    },
    {
      "cell_type": "markdown",
      "metadata": {
        "id": "VhURyPAs4pRn"
      },
      "source": [
        "---\n",
        "\n",
        "## Multiple Input LLM Chains\n"
      ]
    },
    {
      "cell_type": "code",
      "execution_count": null,
      "metadata": {
        "id": "viTxDqnf4pRn",
        "outputId": "7dfb6b52-684e-4888-952a-cc33e3254ae6"
      },
      "outputs": [
        {
          "data": {
            "text/plain": [
              "{'product': 'colorful socks',\n",
              " 'company_context': 'The company sells socks that are colorful, and they are very popular with young people.',\n",
              " 'text': '\"Add a pop of color to your outfit with our vibrant and fun socks! 🌈🧦 Stand out from the crowd and express your unique style. Get ready to turn heads and put a smile on your face every time you look down at your feet! #ColorfulSocks #ExpressYourStyle #BeBold\"'}"
            ]
          },
          "execution_count": 6,
          "metadata": {},
          "output_type": "execute_result"
        }
      ],
      "source": [
        "system_message_prompt = SystemMessagePromptTemplate.from_template(\n",
        "    \"\"\"Act as a social media manager for a company that sells {product}.\n",
        "    You are creating a post for the company's social media account.\n",
        "\n",
        "    Here is some additional context about the company: {company_context}\n",
        "\n",
        "    You must follow the following principles:\n",
        "    - The post must be 2 - 4 sentences in length.\n",
        "    - The post must be written in a positive tone.\n",
        "    - It must contain between 2 - 4 hashtags.\n",
        "\n",
        "    Post:\n",
        "    \"\"\"\n",
        ")\n",
        "\n",
        "\n",
        "chat_prompt_template = ChatPromptTemplate.from_messages([system_message_prompt])\n",
        "\n",
        "# Creating the chain:\n",
        "chain = LLMChain(llm=chat, prompt=chat_prompt_template)\n",
        "\n",
        "# Executing the chain:\n",
        "chain(\n",
        "    {\n",
        "        \"product\": \"colorful socks\",\n",
        "        \"company_context\": \"The company sells socks that are colorful, and they are very popular with young people.\",\n",
        "    }\n",
        ")"
      ]
    },
    {
      "cell_type": "markdown",
      "metadata": {
        "id": "-DUwQuDi4pRo"
      },
      "source": [
        "## Changing The Output Key:\n"
      ]
    },
    {
      "cell_type": "code",
      "execution_count": null,
      "metadata": {
        "id": "3UjG2st14pRo",
        "outputId": "42faec74-5178-4604-bc27-f615af17cb45"
      },
      "outputs": [
        {
          "data": {
            "text/plain": [
              "{'product': 'colorful socks',\n",
              " 'company_context': 'The company sells socks that are colorful, and they are very popular with young people.',\n",
              " 'post_text': \"Get ready to step up your sock game! Our colorful socks are the perfect addition to any outfit, adding a pop of fun and style. With a wide range of vibrant patterns and comfortable materials, you'll be sure to turn heads wherever you go. #ColorfulSocks #SockGameStrong #FashionForward\"}"
            ]
          },
          "execution_count": 7,
          "metadata": {},
          "output_type": "execute_result"
        }
      ],
      "source": [
        "# Creating the chain:\n",
        "chain = LLMChain(llm=chat, prompt=chat_prompt_template, output_key=\"post_text\")\n",
        "\n",
        "# Executing the chain:\n",
        "chain(\n",
        "    {\n",
        "        \"product\": \"colorful socks\",\n",
        "        \"company_context\": \"The company sells socks that are colorful, and they are very popular with young people.\",\n",
        "    }\n",
        ")"
      ]
    },
    {
      "cell_type": "markdown",
      "metadata": {
        "id": "85V_PIJF4pRo"
      },
      "source": [
        "---\n",
        "\n",
        "## Async Methods\n"
      ]
    },
    {
      "cell_type": "code",
      "execution_count": null,
      "metadata": {
        "id": "HvDhH9iZ4pRo",
        "outputId": "783d4885-55ec-42f6-fe09-3b4386ed1da1"
      },
      "outputs": [
        {
          "name": "stdout",
          "output_type": "stream",
          "text": [
            "DentaFresh\n",
            "SmileFresh\n",
            "PearlyWhite Dentifrice\n",
            "GleamDent\n",
            "1. Dentafresh\n",
            "2. PureSmile\n",
            "3. SmileSpark\n",
            "4. BrightDent\n",
            "5. PearlGlow\n",
            "6. MintyFresh\n",
            "7. PureWhite\n",
            "8. OptiClean\n",
            "9. FreshDent\n",
            "10. PearlShine\n",
            "\u001b[1mConcurrent executed in 2.91 seconds.\u001b[0m\n",
            "FreshSmile\n",
            "1. Pearly Whites Co.\n",
            "2. FreshSmile Dental Care\n",
            "3. MintyFresh Oral Care\n",
            "4. SparklingDent Inc.\n",
            "5. HappyBrush Toothpaste\n",
            "6. SmileBright Dental Products\n",
            "7. PureMint Toothpaste Co.\n",
            "8. CleanDent Essentials\n",
            "9. WhiteGlow Oral Care\n",
            "10. FreshEssentials Dental Co.\n",
            "PearlyFresh\n",
            "PearlySmile\n",
            "Some potential names for a toothpaste company could be:\n",
            "\n",
            "1. PureSmile\n",
            "2. SparkleDent\n",
            "3. FreshGlow\n",
            "4. MintVitality\n",
            "5. PearlBright\n",
            "6. OralEssentials\n",
            "7. DentaFresh\n",
            "8. SmileSavers\n",
            "9. PearlMint\n",
            "10. MintRevive\n",
            "\u001b[1mSerial executed in 7.86 seconds.\u001b[0m\n"
          ]
        }
      ],
      "source": [
        "import asyncio\n",
        "import time\n",
        "from langchain.prompts import PromptTemplate\n",
        "from langchain.chains import LLMChain\n",
        "\n",
        "\n",
        "def generate_serially():\n",
        "    llm = ChatOpenAI(temperature=0.9)\n",
        "    prompt = PromptTemplate(\n",
        "        input_variables=[\"product\"],\n",
        "        template=\"What is a good name for a company that makes {product}?\",\n",
        "    )\n",
        "    chain = LLMChain(llm=llm, prompt=prompt)\n",
        "    for _ in range(5):\n",
        "        resp = chain.run(product=\"toothpaste\")\n",
        "        print(resp)\n",
        "\n",
        "\n",
        "async def async_generate(chain):\n",
        "    resp = await chain.arun(product=\"toothpaste\")\n",
        "    print(resp)\n",
        "\n",
        "\n",
        "async def generate_concurrently():\n",
        "    llm = ChatOpenAI(temperature=0.9)\n",
        "    prompt = PromptTemplate(\n",
        "        input_variables=[\"product\"],\n",
        "        template=\"What is a good name for a company that makes {product}?\",\n",
        "    )\n",
        "    chain = LLMChain(llm=llm, prompt=prompt)\n",
        "    tasks = [async_generate(chain) for _ in range(5)]\n",
        "    await asyncio.gather(*tasks)\n",
        "\n",
        "\n",
        "s = time.perf_counter()\n",
        "# If running this outside of Jupyter, use asyncio.run(generate_concurrently())\n",
        "await generate_concurrently()\n",
        "elapsed = time.perf_counter() - s\n",
        "print(\"\\033[1m\" + f\"Concurrent executed in {elapsed:0.2f} seconds.\" + \"\\033[0m\")\n",
        "\n",
        "s = time.perf_counter()\n",
        "generate_serially()\n",
        "elapsed = time.perf_counter() - s\n",
        "print(\"\\033[1m\" + f\"Serial executed in {elapsed:0.2f} seconds.\" + \"\\033[0m\")"
      ]
    },
    {
      "cell_type": "markdown",
      "metadata": {
        "id": "tLGK12aR4pRo"
      },
      "source": [
        "---\n",
        "\n",
        "## Debugging chains with `verbose=True`\n"
      ]
    },
    {
      "cell_type": "code",
      "execution_count": null,
      "metadata": {
        "id": "WWN7sSbX4pRo",
        "outputId": "6c820afd-3325-4f6e-c992-d77adbc3ba0f"
      },
      "outputs": [
        {
          "name": "stdout",
          "output_type": "stream",
          "text": [
            "\n",
            "\n",
            "\u001b[1m> Entering new LLMChain chain...\u001b[0m\n",
            "Prompt after formatting:\n",
            "\u001b[32;1m\u001b[1;3mHuman: What is a good name for a company that makes colorful socks?\u001b[0m\n",
            "\n",
            "\u001b[1m> Finished chain.\u001b[0m\n"
          ]
        },
        {
          "data": {
            "text/plain": [
              "{'product': 'colorful socks',\n",
              " 'company_context': 'The company sells socks that are colorful, and they are very popular with young people.',\n",
              " 'post_text': 'Vibrant Sock Co.\\nRainbow Threads\\nColorful Steps\\nChromaSock\\nSock Spectrum\\nColorPop Socks\\nColorBurst Sock Co.\\nSockArt\\nKaleidosock\\nSpectraSock'}"
            ]
          },
          "execution_count": 6,
          "metadata": {},
          "output_type": "execute_result"
        }
      ],
      "source": [
        "# Creating the chain:\n",
        "chain = LLMChain(\n",
        "    llm=chat, prompt=chat_prompt_template, output_key=\"post_text\", verbose=True\n",
        ")\n",
        "\n",
        "# Executing the chain:\n",
        "chain(\n",
        "    {\n",
        "        \"product\": \"colorful socks\",\n",
        "        \"company_context\": \"The company sells socks that are colorful, and they are very popular with young people.\",\n",
        "    }\n",
        ")"
      ]
    },
    {
      "cell_type": "markdown",
      "metadata": {
        "id": "9FsE7-6T4pRp"
      },
      "source": [
        "You can also debug with by importing the langchain module and changing it to debug mode:\n"
      ]
    },
    {
      "cell_type": "code",
      "execution_count": null,
      "metadata": {
        "id": "5lwrrrRg4pRp"
      },
      "outputs": [],
      "source": [
        "import langchain\n",
        "\n",
        "langchain.verbose = True"
      ]
    },
    {
      "cell_type": "code",
      "execution_count": null,
      "metadata": {
        "id": "u-ie9IN-4pRp",
        "outputId": "ed2f6822-9062-4b5e-fd29-f862341c2fd3"
      },
      "outputs": [
        {
          "name": "stdout",
          "output_type": "stream",
          "text": [
            "\n",
            "\n",
            "\u001b[1m> Entering new LLMChain chain...\u001b[0m\n",
            "Prompt after formatting:\n",
            "\u001b[32;1m\u001b[1;3mSystem: Act as a social media manager for a company that sells colorful socks.\n",
            "    You are creating a post for the company's social media account.\n",
            "\n",
            "    Here is some additional context about the company: The company sells socks that are colorful, and they are very popular with young people.\n",
            "\n",
            "    You must follow the following principles:\n",
            "    - The post must be 2 - 4 sentences in length.\n",
            "    - The post must be written in a positive tone.\n",
            "    - It must contain between 2 - 4 hashtags.\n",
            "\n",
            "    Post: \n",
            "    \u001b[0m\n",
            "\n",
            "\u001b[1m> Finished chain.\u001b[0m\n"
          ]
        },
        {
          "data": {
            "text/plain": [
              "{'product': 'colorful socks',\n",
              " 'company_context': 'The company sells socks that are colorful, and they are very popular with young people.',\n",
              " 'post_text': 'Step up your sock game with our vibrant and trendy collection of colorful socks! 🧦🌈 Perfect for adding a pop of color to any outfit and expressing your unique style. Get ready to turn heads and make a statement! #ColorfulSocks #SockGameStrong #ExpressYourStyle'}"
            ]
          },
          "execution_count": 19,
          "metadata": {},
          "output_type": "execute_result"
        }
      ],
      "source": [
        "# Creating the chain:\n",
        "chain = LLMChain(llm=chat, prompt=chat_prompt_template, output_key=\"post_text\")\n",
        "\n",
        "# Executing the chain:\n",
        "chain(\n",
        "    {\n",
        "        \"product\": \"colorful socks\",\n",
        "        \"company_context\": \"The company sells socks that are colorful, and they are very popular with young people.\",\n",
        "    }\n",
        ")"
      ]
    },
    {
      "cell_type": "code",
      "execution_count": null,
      "metadata": {
        "id": "r-SwGzlj4pRp"
      },
      "outputs": [],
      "source": [
        "# Creating the chain:\n",
        "chain = LLMChain(llm=chat, prompt=chat_prompt_template, output_key=\"post_text\")"
      ]
    },
    {
      "cell_type": "markdown",
      "metadata": {
        "id": "-NjK55JW4pRp"
      },
      "source": [
        "---\n"
      ]
    },
    {
      "cell_type": "markdown",
      "metadata": {
        "id": "RGJxO2YX4pRp"
      },
      "source": [
        "## Additional Ways of Running A Chain:\n"
      ]
    },
    {
      "cell_type": "code",
      "execution_count": null,
      "metadata": {
        "id": "9BXqs0Fp4pRp",
        "outputId": "db702134-8605-4b0f-af33-d03e31018ac3"
      },
      "outputs": [
        {
          "name": "stdout",
          "output_type": "stream",
          "text": [
            "\n",
            "\n",
            "\u001b[1m> Entering new LLMChain chain...\u001b[0m\n",
            "Prompt after formatting:\n",
            "\u001b[32;1m\u001b[1;3mHuman: What is a good name for a company that makes colorful socks?\u001b[0m\n",
            "Prompt after formatting:\n",
            "\u001b[32;1m\u001b[1;3mHuman: What is a good name for a company that makes rock climbing shoes?\u001b[0m\n",
            "Prompt after formatting:\n",
            "\u001b[32;1m\u001b[1;3mHuman: What is a good name for a company that makes running shoes?\u001b[0m\n",
            "\n",
            "\u001b[1m> Finished chain.\u001b[0m\n"
          ]
        }
      ],
      "source": [
        "input_list = [\n",
        "    {\n",
        "        \"product\": \"colorful socks\",\n",
        "        \"company_context\": \"The company sells socks that are colorful, and they are very popular with young people.\",\n",
        "    },\n",
        "    {\n",
        "        \"product\": \"rock climbing shoes\",\n",
        "        \"company_context\": \"The company sells rock climbing shoes that are colorful, and they are very popular with young people.\",\n",
        "    },\n",
        "    {\n",
        "        \"product\": \"running shoes\",\n",
        "        \"company_context\": \"The company sells running shoes that are colorful, and they are very popular with young people.\",\n",
        "    },\n",
        "]\n",
        "\n",
        "results = chain.apply(input_list)"
      ]
    },
    {
      "cell_type": "code",
      "execution_count": null,
      "metadata": {
        "id": "f67F4kkM4pRp",
        "outputId": "8bb16165-850a-432d-9bbf-6f40983d2cd6"
      },
      "outputs": [
        {
          "data": {
            "text/plain": [
              "[{'post_text': 'Spectrum Socks'},\n",
              " {'post_text': 'PeakProwler'},\n",
              " {'post_text': 'StrideElite'}]"
            ]
          },
          "execution_count": 8,
          "metadata": {},
          "output_type": "execute_result"
        }
      ],
      "source": [
        "results"
      ]
    },
    {
      "cell_type": "code",
      "execution_count": null,
      "metadata": {
        "id": "AfPyOcRn4pRp"
      },
      "outputs": [],
      "source": [
        "# If you use .generate(), then you will get an LLMResult object back.\n",
        "results = chain.generate(input_list)"
      ]
    },
    {
      "cell_type": "code",
      "execution_count": null,
      "metadata": {
        "id": "qvmLJ4Te4pRp",
        "outputId": "30841868-6423-4e59-de54-80feeacbcd26"
      },
      "outputs": [
        {
          "data": {
            "text/plain": [
              "{'token_usage': {'prompt_tokens': 61,\n",
              "  'completion_tokens': 10,\n",
              "  'total_tokens': 71},\n",
              " 'model_name': 'gpt-3.5-turbo'}"
            ]
          },
          "execution_count": 13,
          "metadata": {},
          "output_type": "execute_result"
        }
      ],
      "source": [
        "results.llm_output"
      ]
    },
    {
      "cell_type": "markdown",
      "metadata": {
        "id": "Fdt9knfB4pRp"
      },
      "source": [
        "There are the .aapply() and .agenerate() methods for async.\n"
      ]
    },
    {
      "cell_type": "markdown",
      "metadata": {
        "id": "dE42jJyV4pRp"
      },
      "source": [
        "---\n"
      ]
    }
  ],
  "metadata": {
    "kernelspec": {
      "display_name": "base",
      "language": "python",
      "name": "python3"
    },
    "language_info": {
      "codemirror_mode": {
        "name": "ipython",
        "version": 3
      },
      "file_extension": ".py",
      "mimetype": "text/x-python",
      "name": "python",
      "nbconvert_exporter": "python",
      "pygments_lexer": "ipython3",
      "version": "3.9.13"
    },
    "orig_nbformat": 4,
    "colab": {
      "provenance": []
    }
  },
  "nbformat": 4,
  "nbformat_minor": 0
}