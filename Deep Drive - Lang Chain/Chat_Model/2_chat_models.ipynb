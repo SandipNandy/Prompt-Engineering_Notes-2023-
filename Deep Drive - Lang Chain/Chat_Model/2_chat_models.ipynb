{
  "cells": [
    {
      "cell_type": "markdown",
      "metadata": {
        "id": "PX4DY9-ag6wf"
      },
      "source": [
        "## Chat Models\n"
      ]
    },
    {
      "cell_type": "code",
      "execution_count": null,
      "metadata": {
        "id": "3MujR9U6g6wh"
      },
      "outputs": [],
      "source": [
        "import os\n",
        "%pip install langchain\n",
        "os.environ['OPENAI_API_KEY'] = 'API_KEY_HERE'"
      ]
    },
    {
      "cell_type": "code",
      "execution_count": null,
      "metadata": {
        "id": "EC2NRLlWg6wi"
      },
      "outputs": [],
      "source": [
        "from langchain.chat_models import ChatOpenAI\n",
        "\n",
        "# chat = ChatOpenAI(openai_api_key=\"...\")\n",
        "\n",
        "# If you have an envionrment variable set for OPENAI_API_KEY, you can just do:\n",
        "chat = ChatOpenAI()"
      ]
    },
    {
      "cell_type": "code",
      "execution_count": null,
      "metadata": {
        "id": "bcroA3QEg6wj",
        "outputId": "e28f45be-8ff1-46fa-c133-b9059a6fb0d1"
      },
      "outputs": [
        {
          "data": {
            "text/plain": [
              "\"Hello! I'm an AI language model, so I don't have feelings, but I'm here to help you. How can I assist you today?\""
            ]
          },
          "execution_count": 2,
          "metadata": {},
          "output_type": "execute_result"
        }
      ],
      "source": [
        "chat.predict(\"Hello, how are you?\")"
      ]
    },
    {
      "cell_type": "code",
      "execution_count": null,
      "metadata": {
        "id": "RN92uD6Pg6wj"
      },
      "outputs": [],
      "source": [
        "from langchain.schema import HumanMessage, SystemMessage, AIMessage\n",
        "\n",
        "text = \"What would be a good company name for a company that makes colorful socks?\"\n",
        "messages = [HumanMessage(content=text)]\n",
        "result = chat.predict_messages(messages)"
      ]
    },
    {
      "cell_type": "code",
      "execution_count": null,
      "metadata": {
        "id": "149b20Bag6wk"
      },
      "outputs": [],
      "source": [
        "result = chat(messages)"
      ]
    },
    {
      "cell_type": "code",
      "execution_count": null,
      "metadata": {
        "id": "93dtx1Etg6wk",
        "outputId": "47b98ec3-b1ce-41ba-d9fb-7873e2453b13"
      },
      "outputs": [
        {
          "name": "stdout",
          "output_type": "stream",
          "text": [
            "ChromaSock\n"
          ]
        }
      ],
      "source": [
        "print(result.content)"
      ]
    },
    {
      "cell_type": "markdown",
      "metadata": {
        "id": "lF5KopEug6wk"
      },
      "source": [
        "---\n",
        "\n",
        "## Inserting the SystemMessage instead of a HumanMessage\n"
      ]
    },
    {
      "cell_type": "code",
      "execution_count": null,
      "metadata": {
        "id": "QWv33P3Ig6wk",
        "outputId": "e06359fe-9bbf-4c92-cfa6-a2611fe28a11"
      },
      "outputs": [
        {
          "data": {
            "text/plain": [
              "AIMessage(content='VibrantSox', additional_kwargs={}, example=False)"
            ]
          },
          "execution_count": 8,
          "metadata": {},
          "output_type": "execute_result"
        }
      ],
      "source": [
        "text = \"What would be a good company name for a company that makes colorful socks?\"\n",
        "\n",
        "messages = [SystemMessage(content=text)]\n",
        "chat(messages)"
      ]
    }
  ],
  "metadata": {
    "kernelspec": {
      "display_name": "base",
      "language": "python",
      "name": "python3"
    },
    "language_info": {
      "codemirror_mode": {
        "name": "ipython",
        "version": 3
      },
      "file_extension": ".py",
      "mimetype": "text/x-python",
      "name": "python",
      "nbconvert_exporter": "python",
      "pygments_lexer": "ipython3",
      "version": "3.9.13"
    },
    "orig_nbformat": 4,
    "colab": {
      "provenance": []
    }
  },
  "nbformat": 4,
  "nbformat_minor": 0
}